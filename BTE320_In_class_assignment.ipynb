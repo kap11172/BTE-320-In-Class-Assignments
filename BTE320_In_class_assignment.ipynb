{
  "nbformat": 4,
  "nbformat_minor": 0,
  "metadata": {
    "colab": {
      "provenance": [],
      "authorship_tag": "ABX9TyPvirtam8rAjutUCXH5kIES",
      "include_colab_link": true
    },
    "kernelspec": {
      "name": "python3",
      "display_name": "Python 3"
    },
    "language_info": {
      "name": "python"
    }
  },
  "cells": [
    {
      "cell_type": "markdown",
      "metadata": {
        "id": "view-in-github",
        "colab_type": "text"
      },
      "source": [
        "<a href=\"https://colab.research.google.com/github/kap11172/BTE-320-In-Class-Assignments/blob/main/BTE320_In_class_assignment.ipynb\" target=\"_parent\"><img src=\"https://colab.research.google.com/assets/colab-badge.svg\" alt=\"Open In Colab\"/></a>"
      ]
    },
    {
      "cell_type": "code",
      "execution_count": null,
      "metadata": {
        "id": "-ux9Baziyh4J"
      },
      "outputs": [],
      "source": []
    },
    {
      "cell_type": "markdown",
      "source": [
        "Surface area of a cylinder"
      ],
      "metadata": {
        "id": "pLroem3kynGf"
      }
    },
    {
      "cell_type": "code",
      "source": [
        "radius = 3\n",
        "height = 10\n",
        "pi = 3.14\n",
        "\n",
        "# Calculate surface area of cylinder\n",
        "surfacearea_cylinder = 2 * pi * radius ** 2 + 2 * pi * radius * height\n",
        "# Display surface area on the screen\n",
        "print(surfacearea_cylinder)"
      ],
      "metadata": {
        "colab": {
          "base_uri": "https://localhost:8080/"
        },
        "id": "86gVBMgcyvy6",
        "outputId": "90a3cc1d-4ec3-4fee-c38f-4e3f492b2100"
      },
      "execution_count": null,
      "outputs": [
        {
          "output_type": "stream",
          "name": "stdout",
          "text": [
            "244.92000000000002\n"
          ]
        }
      ]
    },
    {
      "cell_type": "code",
      "source": [
        "p1 = input('Choose rock, paper, or scissors: ')\n",
        "p2 = input('Choose rock, paper, or scissors: ')\n",
        "\n",
        "\n",
        "if p1 == p2:\n",
        "  print('Draw')\n",
        "\n",
        "elif (p1 == 'rock' and p2 == 'scissors') or (p1 == 'paper' and p2 == 'rock') or (p1 == 'scissors' and p2 == 'paper'):\n",
        "  print('p1 wins')\n",
        "\n",
        "else:\n",
        "  print('p2 wins')"
      ],
      "metadata": {
        "colab": {
          "base_uri": "https://localhost:8080/"
        },
        "id": "u5BZ59TwSGrt",
        "outputId": "11d36f2a-5351-4533-85f4-280c0f6cad87"
      },
      "execution_count": null,
      "outputs": [
        {
          "output_type": "stream",
          "name": "stdout",
          "text": [
            "Choose rock, paper, or scissors: rock\n",
            "Choose rock, paper, or scissors: rock\n",
            "Draw\n"
          ]
        }
      ]
    },
    {
      "cell_type": "code",
      "source": [
        "n1 = float(input('Choose a number: '))\n",
        "n2 = float(input('Choose a number: '))\n",
        "Symbol = input('Choose operator: ')\n",
        "\n",
        "if Symbol == '+':\n",
        "  print(f'n1+n2 = {n1+n2}')\n",
        "\n",
        "elif Symbol == '-':\n",
        "  print(f'n1-n2 = {n1-n2}')\n",
        "\n",
        "elif Symbol == '*':\n",
        "  print(f'n1*n2 = {n1*n2}')\n",
        "\n",
        "elif Symbol == '/':\n",
        "  print(f'n1/n2 = {n1/n2}')\n",
        "\n",
        "elif Symbol == '**':\n",
        "  print(f'n1**n2 = {n1**n2}')\n",
        "\n",
        "elif Symbol == '//':\n",
        "  print(f'n1//n2 = {n1//n2}')\n",
        "\n",
        "elif Symbol == '%':\n",
        "  print(f'n1%n2 = {n1%n2}')"
      ],
      "metadata": {
        "id": "1p69owOUCQgB",
        "colab": {
          "base_uri": "https://localhost:8080/"
        },
        "outputId": "70b09bbf-7467-4e67-bf2e-1f81b9de71de"
      },
      "execution_count": null,
      "outputs": [
        {
          "output_type": "stream",
          "name": "stdout",
          "text": [
            "Choose number: 5\n",
            "Choose number: 3\n",
            "Choose operator: +\n",
            "n1+n2 = 8.0\n"
          ]
        }
      ]
    },
    {
      "cell_type": "code",
      "source": [
        "c = input('Do you want to play a game? Yes or No: ')\n",
        "\n",
        "while c == 'Yes':\n",
        "  p1 = input('Choose rock, paper, or scissors:  ')\n",
        "  p2 = input('Choose rock, paper, or scissors:  ')\n",
        "\n",
        "\n",
        "  if p1 == p2:\n",
        "    print('Draw')\n",
        "\n",
        "  elif (p1 == 'rock' and p2 == 'scissors') or (p1 == 'paper' and p2 == 'rock') or (p1 == 'scissors' and p2 == 'paper'):\n",
        "    print('p1 wins')\n",
        "\n",
        "  else:\n",
        "    print('p2 wins')\n",
        "\n",
        "  c = input('Do you want to play again? Yes or No: ')\n"
      ],
      "metadata": {
        "colab": {
          "base_uri": "https://localhost:8080/"
        },
        "id": "bv7XiBIQ8tdB",
        "outputId": "d0c1f857-76d5-4cfb-d2ba-60ed87317551"
      },
      "execution_count": null,
      "outputs": [
        {
          "name": "stdout",
          "output_type": "stream",
          "text": [
            "Do you want to play a game? Yes or No: Yes\n",
            "Choose rock, paper, or scissors:  paper\n",
            "Choose rock, paper, or scissors:  rock\n",
            "p1 wins\n",
            "Do you want to play again? Yes or No: Yes\n",
            "Choose rock, paper, or scissors:  scissors\n",
            "Choose rock, paper, or scissors:  paper\n",
            "p1 wins\n",
            "Do you want to play again? Yes or No: No\n"
          ]
        }
      ]
    },
    {
      "cell_type": "code",
      "source": [
        "import random\n",
        "\n",
        "c = input('Do you want to play a game? Yes or No: ')\n",
        "\n",
        "while c == 'Yes':\n",
        "  p1 = input('Choose rock, paper, or scissors:  ')\n",
        "  p2 = random.choice(['rock', 'paper', 'scissors'])\n",
        "\n",
        "  print(f'Computer chose {p2}.')\n",
        "\n",
        "  if p1 == p2:\n",
        "    print('Draw')\n",
        "\n",
        "  elif (p1 == 'rock' and p2 == 'scissors') or (p1 == 'paper' and p2 == 'rock') or (p1 == 'scissors' and p2 == 'paper'):\n",
        "    print('You win')\n",
        "\n",
        "  else:\n",
        "    print('Computer wins')\n",
        "\n",
        "  c = input('Do you want to play again? Yes or No: ')\n",
        "print('Have a nice day!')\n"
      ],
      "metadata": {
        "colab": {
          "base_uri": "https://localhost:8080/"
        },
        "id": "lcarzZqsCXsn",
        "outputId": "a85c752e-4cdf-4267-9897-e62796a91aee"
      },
      "execution_count": null,
      "outputs": [
        {
          "output_type": "stream",
          "name": "stdout",
          "text": [
            "Do you want to play a game? Yes or No: Yes\n",
            "Choose rock, paper, or scissors:  paper\n",
            "Computer chose paper.\n",
            "Draw\n",
            "Do you want to play again? Yes or No: Yes\n",
            "Choose rock, paper, or scissors:  scissors\n",
            "Computer chose scissors.\n",
            "Draw\n",
            "Do you want to play again? Yes or No: Yes\n",
            "Choose rock, paper, or scissors:  paper\n",
            "Computer chose scissors.\n",
            "p2 wins\n",
            "Do you want to play again? Yes or No: No\n",
            "Have a nice day!\n"
          ]
        }
      ]
    },
    {
      "cell_type": "code",
      "source": [
        "flat = 5.00\n",
        "\n",
        "for t in range(1, 9):\n",
        "  charge = flat + 2.50 * t\n",
        "  if charge < 10:\n",
        "    charge = 10.0\n",
        "  elif charge > 20:\n",
        "    charge = 20.0\n",
        "  print(t, charge)\n"
      ],
      "metadata": {
        "colab": {
          "base_uri": "https://localhost:8080/"
        },
        "id": "XurPP5XaDdsf",
        "outputId": "da56b2ad-44c5-4d3e-822f-99d35babbb32"
      },
      "execution_count": null,
      "outputs": [
        {
          "output_type": "stream",
          "name": "stdout",
          "text": [
            "1 10.0\n",
            "2 10.0\n",
            "3 12.5\n",
            "4 15.0\n",
            "5 17.5\n",
            "6 20.0\n",
            "7 20.0\n",
            "8 20.0\n"
          ]
        }
      ]
    },
    {
      "cell_type": "code",
      "source": [
        "ticketPrice = 10\n",
        "fixedCost = 200\n",
        "standardAttendees = 20\n",
        "\n",
        "for ad in range(0,201,25):\n",
        "  profit = (10*(standardAttendees + 2 * round((ad**.5))) - fixedCost - ad)\n",
        "  print(ad, profit)\n",
        "\n",
        "\n"
      ],
      "metadata": {
        "colab": {
          "base_uri": "https://localhost:8080/"
        },
        "id": "bYyBdBifKfl3",
        "outputId": "738cf7cc-e02a-4183-a47c-e062bc659be0"
      },
      "execution_count": null,
      "outputs": [
        {
          "output_type": "stream",
          "name": "stdout",
          "text": [
            "0 0\n",
            "25 75\n",
            "50 90\n",
            "75 105\n",
            "100 100\n",
            "125 95\n",
            "150 90\n",
            "175 85\n",
            "200 80\n"
          ]
        }
      ]
    },
    {
      "cell_type": "code",
      "source": [
        "ticketPrice = 10\n",
        "fixedCost = 200\n",
        "standardAttendees = 20\n",
        "\n",
        "ad = 0\n",
        "\n",
        "while ad < 201:\n",
        "  profit = (10*(standardAttendees + 2 * round((ad**.5))) - fixedCost - ad)\n",
        "  print(ad, profit)\n",
        "  ad = ad + 25\n",
        "\n"
      ],
      "metadata": {
        "colab": {
          "base_uri": "https://localhost:8080/"
        },
        "id": "SlfdftNuRxKy",
        "outputId": "6e84eacd-b8ad-43e4-9251-c27d4ecf33be"
      },
      "execution_count": null,
      "outputs": [
        {
          "output_type": "stream",
          "name": "stdout",
          "text": [
            "0 0\n",
            "25 75\n",
            "50 90\n",
            "75 105\n",
            "100 100\n",
            "125 95\n",
            "150 90\n",
            "175 85\n",
            "200 80\n"
          ]
        }
      ]
    },
    {
      "cell_type": "code",
      "source": [
        "L = []\n",
        "\n",
        "item = int(input('Insert a number: '))\n",
        "\n",
        "while item != 0:\n",
        "  L.append(item)\n",
        "  item = int(input('Insert a number: '))\n",
        "print(L)"
      ],
      "metadata": {
        "colab": {
          "base_uri": "https://localhost:8080/"
        },
        "id": "ZjyG78cqVnI0",
        "outputId": "9dd457df-d7f3-4f7f-c7e0-72b32a8c44a8"
      },
      "execution_count": null,
      "outputs": [
        {
          "output_type": "stream",
          "name": "stdout",
          "text": [
            "Insert a number: 5\n",
            "Insert a number: 3\n",
            "Insert a number: 7\n",
            "Insert a number: 9\n",
            "Insert a number: 0\n",
            "[5, 3, 7, 9]\n"
          ]
        }
      ]
    },
    {
      "cell_type": "code",
      "source": [
        "months = {}\n",
        "\n",
        "names = ['Jan', 'Feb', 'Mar', 'Apr', 'May', 'Jun',\n",
        "         'Jul', 'Aug', 'Sep', 'Oct', 'Nov', 'Dec']\n",
        "\n",
        "numbers = [1, 2, 3, 4, 5, 6, 7, 8, 9, 10, 11, 12]\n",
        "\n",
        "for i in range(len(numbers)):\n",
        "  months[numbers[i]] = names[i]\n",
        "\n",
        "months"
      ],
      "metadata": {
        "colab": {
          "base_uri": "https://localhost:8080/"
        },
        "id": "OdTADj9zFZFB",
        "outputId": "5abe94d3-7e6c-4bec-b770-2c19fbc99f1c"
      },
      "execution_count": null,
      "outputs": [
        {
          "output_type": "execute_result",
          "data": {
            "text/plain": [
              "{1: 'Jan',\n",
              " 2: 'Feb',\n",
              " 3: 'Mar',\n",
              " 4: 'Apr',\n",
              " 5: 'May',\n",
              " 6: 'Jun',\n",
              " 7: 'Jul',\n",
              " 8: 'Aug',\n",
              " 9: 'Sep',\n",
              " 10: 'Oct',\n",
              " 11: 'Nov',\n",
              " 12: 'Dec'}"
            ]
          },
          "metadata": {},
          "execution_count": 27
        }
      ]
    },
    {
      "cell_type": "code",
      "source": [
        "for n in numbers:\n",
        "  months[n] = names[n-1]\n",
        "\n",
        "months"
      ],
      "metadata": {
        "colab": {
          "base_uri": "https://localhost:8080/"
        },
        "id": "d6r2sbOqLwV7",
        "outputId": "d5df42d3-c5e1-421f-c96b-32af2a5c48ed"
      },
      "execution_count": null,
      "outputs": [
        {
          "output_type": "execute_result",
          "data": {
            "text/plain": [
              "{1: 'Jan',\n",
              " 2: 'Feb',\n",
              " 3: 'Mar',\n",
              " 4: 'Apr',\n",
              " 5: 'May',\n",
              " 6: 'Jun',\n",
              " 7: 'Jul',\n",
              " 8: 'Aug',\n",
              " 9: 'Sep',\n",
              " 10: 'Oct',\n",
              " 11: 'Nov',\n",
              " 12: 'Dec'}"
            ]
          },
          "metadata": {},
          "execution_count": 28
        }
      ]
    },
    {
      "cell_type": "code",
      "source": [
        "def inputs():\n",
        "  annual_salary = float(input('Enter your annual salary: '))\n",
        "  portion_saved = float(input('Enter the percent of your salary to save, as a decimal: '))\n",
        "  total_cost = float(input('Enter the cost of your dream home: '))\n",
        "  semi_annual_raise = float(input('Enter your semi annual raise, as a decimal: '))\n",
        "\n",
        "  return annual_salary, portion_saved, total_cost\n",
        "\n",
        "portion_down_payment = 0.25\n",
        "current_savings = 0\n",
        "r = 0.04\n",
        "months = 0\n",
        "\n",
        "while current_savings < total_cost * portion_down_payment:\n",
        "    months += 1\n",
        "    current_savings += (annual_salary / 12) * portion_saved + current_savings * (r / 12)\n",
        "    if months % 6 == 0:\n",
        "        annual_salary += annual_salary * semi_annual_raise\n",
        "\n",
        "print('Number of months:',months)"
      ],
      "metadata": {
        "colab": {
          "base_uri": "https://localhost:8080/"
        },
        "id": "MWBD6dZfYUlb",
        "outputId": "7f14f618-7cc5-4378-fe42-c8a8afdc7f45"
      },
      "execution_count": null,
      "outputs": [
        {
          "output_type": "stream",
          "name": "stdout",
          "text": [
            "Enter your annual salary: 100000\n",
            "Enter the percent of your salary to save, as a decimal: .07\n",
            "Enter the cost of your dream home: 1000000\n",
            "Enter your semi annual raise, as a decimal: .09\n",
            "Number of months: 131\n"
          ]
        }
      ]
    },
    {
      "cell_type": "code",
      "source": [
        "def calcFee(hours, decimals=2):\n",
        "  fee = 5 + hours * 2.5\n",
        "  fee = round(fee, decimals)\n",
        "  return fee\n",
        "\n",
        "def displayFee(fee):\n",
        "  print('Parking fee: ','$',fee)\n",
        "\n",
        "h = int(input('Enter number of hours parked: '))\n",
        "fee = calcFee(h)\n",
        "displayFee(fee)\n",
        "\n",
        "#Something more elaborate: display(calcFee(int(input('Enter number of hours parked: '))))"
      ],
      "metadata": {
        "colab": {
          "base_uri": "https://localhost:8080/"
        },
        "id": "T60Dsc_eQF_i",
        "outputId": "bde66885-da0d-4955-a952-c2ec2c179c1f"
      },
      "execution_count": null,
      "outputs": [
        {
          "output_type": "stream",
          "name": "stdout",
          "text": [
            "Enter number of hours parked: 4\n",
            "Parking fee:  $ 15.0\n"
          ]
        }
      ]
    },
    {
      "cell_type": "code",
      "source": [
        "def rev(S):\n",
        "  if len(S) == 1:\n",
        "    return S\n",
        "  else:\n",
        "    return S[-1] + rev(S[:-1])\n",
        "\n",
        "rev('Hello')"
      ],
      "metadata": {
        "colab": {
          "base_uri": "https://localhost:8080/",
          "height": 35
        },
        "id": "q0g2bsk0UitS",
        "outputId": "d79b6ee3-b6ee-4eed-dcda-4ebfa9eeed7d"
      },
      "execution_count": null,
      "outputs": [
        {
          "output_type": "execute_result",
          "data": {
            "text/plain": [
              "'olleH'"
            ],
            "application/vnd.google.colaboratory.intrinsic+json": {
              "type": "string"
            }
          },
          "metadata": {},
          "execution_count": 21
        }
      ]
    },
    {
      "cell_type": "code",
      "source": [
        "\"\"\"\n",
        "Function that calculates the weighted average of a list L, given weigths w\n",
        "The function should handle the following exception error types:\n",
        "- ZeroDivisionError (returns empty list)\n",
        "- TypeError (returns empty list)\n",
        "- any other unknown error (returns float('nan'))\n",
        "\"\"\"\n",
        "\n",
        "def wAvg(L, w):\n",
        "  assert len(L) == len(w), \"lists are not equal in length\"\n",
        "  res = []\n",
        "  try:\n",
        "    for i in range(len(L)):\n",
        "      res.append(L[i] * w[i])\n",
        "    return sum(res) / sum(w)\n",
        "  except ZeroDivisionError:\n",
        "    print('Division by zero not allowed')\n",
        "    return []\n",
        "  except TypeError:\n",
        "    print('Non-numerical objects found')\n",
        "    return []\n",
        "  except Exception as e:\n",
        "    print(f'Unknown error: {e}')\n",
        "    return float('nan')\n",
        "\n",
        "wAvg([1,2,3], [.1, .3, .2])"
      ],
      "metadata": {
        "colab": {
          "base_uri": "https://localhost:8080/"
        },
        "id": "RYPPBD21t0EZ",
        "outputId": "0a55ab99-d140-4f08-b895-baae497da26b"
      },
      "execution_count": null,
      "outputs": [
        {
          "output_type": "execute_result",
          "data": {
            "text/plain": [
              "2.1666666666666665"
            ]
          },
          "metadata": {},
          "execution_count": 4
        }
      ]
    },
    {
      "cell_type": "code",
      "source": [
        "class Student:\n",
        "  def __init__(self, name, number):\n",
        "    self.name = name\n",
        "    self.number = number\n",
        "    self.courses = []\n",
        "\n",
        "  def enroll(self, course):\n",
        "    if course not in self.courses:\n",
        "      self.courses.append(course)\n",
        "    else:\n",
        "      print(f'Already enrolled in {course}')\n",
        "\n",
        "  def get_courses(self):\n",
        "    return self.courses\n",
        "\n",
        "s1 = Student('James Bond', '007')\n",
        "s2 = Student('Clark Kent', '333')\n",
        "s3 = Student('Jane Doe', '1111')\n"
      ],
      "metadata": {
        "id": "IZSY8ir2nSm_"
      },
      "execution_count": 46,
      "outputs": []
    },
    {
      "cell_type": "code",
      "source": [
        "s1.name, s2.name, s3.name"
      ],
      "metadata": {
        "colab": {
          "base_uri": "https://localhost:8080/"
        },
        "id": "TJ0_3I788RkW",
        "outputId": "46d58b2d-ed84-4146-bcbd-867b48158c9e"
      },
      "execution_count": 47,
      "outputs": [
        {
          "output_type": "execute_result",
          "data": {
            "text/plain": [
              "('James Bond', 'Clark Kent', 'Jane Doe')"
            ]
          },
          "metadata": {},
          "execution_count": 47
        }
      ]
    },
    {
      "cell_type": "code",
      "source": [
        "s3.enroll('BTE 420')"
      ],
      "metadata": {
        "id": "mvTZizKo9WC4"
      },
      "execution_count": 50,
      "outputs": []
    },
    {
      "cell_type": "code",
      "source": [
        "s3.get_courses()"
      ],
      "metadata": {
        "colab": {
          "base_uri": "https://localhost:8080/"
        },
        "id": "s_mIN4QB-eO7",
        "outputId": "3d240310-a3e6-4b76-9961-3ac9bfb5dab5"
      },
      "execution_count": 51,
      "outputs": [
        {
          "output_type": "execute_result",
          "data": {
            "text/plain": [
              "['BTE 320', 'BTE 420']"
            ]
          },
          "metadata": {},
          "execution_count": 51
        }
      ]
    }
  ]
}