{
  "nbformat": 4,
  "nbformat_minor": 0,
  "metadata": {
    "colab": {
      "provenance": [],
      "authorship_tag": "ABX9TyNQyhclyuvaloQUSvSiXjSP",
      "include_colab_link": true
    },
    "kernelspec": {
      "name": "python3",
      "display_name": "Python 3"
    },
    "language_info": {
      "name": "python"
    }
  },
  "cells": [
    {
      "cell_type": "markdown",
      "metadata": {
        "id": "view-in-github",
        "colab_type": "text"
      },
      "source": [
        "<a href=\"https://colab.research.google.com/github/kap11172/BTE-320-In-Class-Assignments/blob/main/BTE320_In_class_assignment.ipynb\" target=\"_parent\"><img src=\"https://colab.research.google.com/assets/colab-badge.svg\" alt=\"Open In Colab\"/></a>"
      ]
    },
    {
      "cell_type": "code",
      "execution_count": null,
      "metadata": {
        "id": "-ux9Baziyh4J"
      },
      "outputs": [],
      "source": []
    },
    {
      "cell_type": "markdown",
      "source": [
        "Surface area of a cylinder"
      ],
      "metadata": {
        "id": "pLroem3kynGf"
      }
    },
    {
      "cell_type": "code",
      "source": [
        "radius = 3\n",
        "height = 10\n",
        "pi = 3.14\n",
        "\n",
        "# Calculate surface area of cylinder\n",
        "surfacearea_cylinder = 2 * pi * radius ** 2 + 2 * pi * radius * height\n",
        "# Display surface area on the screen\n",
        "print(surfacearea_cylinder)"
      ],
      "metadata": {
        "colab": {
          "base_uri": "https://localhost:8080/"
        },
        "id": "86gVBMgcyvy6",
        "outputId": "90a3cc1d-4ec3-4fee-c38f-4e3f492b2100"
      },
      "execution_count": null,
      "outputs": [
        {
          "output_type": "stream",
          "name": "stdout",
          "text": [
            "244.92000000000002\n"
          ]
        }
      ]
    },
    {
      "cell_type": "code",
      "source": [
        "p1 = input('Choose rock, paper, or scissors: ')\n",
        "p2 = input('Choose rock, paper, or scissors: ')\n",
        "\n",
        "\n",
        "if p1 == p2:\n",
        "  print('Draw')\n",
        "\n",
        "elif (p1 == 'rock' and p2 == 'scissors') or (p1 == 'paper' and p2 == 'rock') or (p1 == 'scissors' and p2 == 'paper'):\n",
        "  print('p1 wins')\n",
        "\n",
        "else:\n",
        "  print('p2 wins')"
      ],
      "metadata": {
        "colab": {
          "base_uri": "https://localhost:8080/"
        },
        "id": "u5BZ59TwSGrt",
        "outputId": "11d36f2a-5351-4533-85f4-280c0f6cad87"
      },
      "execution_count": null,
      "outputs": [
        {
          "output_type": "stream",
          "name": "stdout",
          "text": [
            "Choose rock, paper, or scissors: rock\n",
            "Choose rock, paper, or scissors: rock\n",
            "Draw\n"
          ]
        }
      ]
    },
    {
      "cell_type": "code",
      "source": [
        "n1 = float(input('Choose a number: '))\n",
        "n2 = float(input('Choose a number: '))\n",
        "Symbol = input('Choose operator: ')\n",
        "\n",
        "if Symbol == '+':\n",
        "  print(f'n1+n2 = {n1+n2}')\n",
        "\n",
        "elif Symbol == '-':\n",
        "  print(f'n1-n2 = {n1-n2}')\n",
        "\n",
        "elif Symbol == '*':\n",
        "  print(f'n1*n2 = {n1*n2}')\n",
        "\n",
        "elif Symbol == '/':\n",
        "  print(f'n1/n2 = {n1/n2}')\n",
        "\n",
        "elif Symbol == '**':\n",
        "  print(f'n1**n2 = {n1**n2}')\n",
        "\n",
        "elif Symbol == '//':\n",
        "  print(f'n1//n2 = {n1//n2}')\n",
        "\n",
        "elif Symbol == '%':\n",
        "  print(f'n1%n2 = {n1%n2}')"
      ],
      "metadata": {
        "id": "1p69owOUCQgB",
        "colab": {
          "base_uri": "https://localhost:8080/"
        },
        "outputId": "70b09bbf-7467-4e67-bf2e-1f81b9de71de"
      },
      "execution_count": null,
      "outputs": [
        {
          "output_type": "stream",
          "name": "stdout",
          "text": [
            "Choose number: 5\n",
            "Choose number: 3\n",
            "Choose operator: +\n",
            "n1+n2 = 8.0\n"
          ]
        }
      ]
    },
    {
      "cell_type": "code",
      "source": [
        "c = input('Do you want to play a game? Yes or No: ')\n",
        "\n",
        "while c == 'Yes':\n",
        "  p1 = input('Choose rock, paper, or scissors:  ')\n",
        "  p2 = input('Choose rock, paper, or scissors:  ')\n",
        "\n",
        "\n",
        "  if p1 == p2:\n",
        "    print('Draw')\n",
        "\n",
        "  elif (p1 == 'rock' and p2 == 'scissors') or (p1 == 'paper' and p2 == 'rock') or (p1 == 'scissors' and p2 == 'paper'):\n",
        "    print('p1 wins')\n",
        "\n",
        "  else:\n",
        "    print('p2 wins')\n",
        "\n",
        "  c = input('Do you want to play again? Yes or No: ')\n"
      ],
      "metadata": {
        "colab": {
          "base_uri": "https://localhost:8080/"
        },
        "id": "bv7XiBIQ8tdB",
        "outputId": "d0c1f857-76d5-4cfb-d2ba-60ed87317551"
      },
      "execution_count": null,
      "outputs": [
        {
          "name": "stdout",
          "output_type": "stream",
          "text": [
            "Do you want to play a game? Yes or No: Yes\n",
            "Choose rock, paper, or scissors:  paper\n",
            "Choose rock, paper, or scissors:  rock\n",
            "p1 wins\n",
            "Do you want to play again? Yes or No: Yes\n",
            "Choose rock, paper, or scissors:  scissors\n",
            "Choose rock, paper, or scissors:  paper\n",
            "p1 wins\n",
            "Do you want to play again? Yes or No: No\n"
          ]
        }
      ]
    },
    {
      "cell_type": "code",
      "source": [
        "import random\n",
        "\n",
        "c = input('Do you want to play a game? Yes or No: ')\n",
        "\n",
        "while c == 'Yes':\n",
        "  p1 = input('Choose rock, paper, or scissors:  ')\n",
        "  p2 = random.choice(['rock', 'paper', 'scissors'])\n",
        "\n",
        "  print(f'Computer chose {p2}.')\n",
        "\n",
        "  if p1 == p2:\n",
        "    print('Draw')\n",
        "\n",
        "  elif (p1 == 'rock' and p2 == 'scissors') or (p1 == 'paper' and p2 == 'rock') or (p1 == 'scissors' and p2 == 'paper'):\n",
        "    print('You win')\n",
        "\n",
        "  else:\n",
        "    print('Computer wins')\n",
        "\n",
        "  c = input('Do you want to play again? Yes or No: ')\n",
        "print('Have a nice day!')\n"
      ],
      "metadata": {
        "colab": {
          "base_uri": "https://localhost:8080/"
        },
        "id": "lcarzZqsCXsn",
        "outputId": "a85c752e-4cdf-4267-9897-e62796a91aee"
      },
      "execution_count": null,
      "outputs": [
        {
          "output_type": "stream",
          "name": "stdout",
          "text": [
            "Do you want to play a game? Yes or No: Yes\n",
            "Choose rock, paper, or scissors:  paper\n",
            "Computer chose paper.\n",
            "Draw\n",
            "Do you want to play again? Yes or No: Yes\n",
            "Choose rock, paper, or scissors:  scissors\n",
            "Computer chose scissors.\n",
            "Draw\n",
            "Do you want to play again? Yes or No: Yes\n",
            "Choose rock, paper, or scissors:  paper\n",
            "Computer chose scissors.\n",
            "p2 wins\n",
            "Do you want to play again? Yes or No: No\n",
            "Have a nice day!\n"
          ]
        }
      ]
    },
    {
      "cell_type": "code",
      "source": [
        "flat = 5.00\n",
        "\n",
        "for t in range(1, 9):\n",
        "  charge = flat + 2.50 * t\n",
        "  if charge < 10:\n",
        "    charge = 10.0\n",
        "  elif charge > 20:\n",
        "    charge = 20.0\n",
        "  print(t, charge)\n"
      ],
      "metadata": {
        "colab": {
          "base_uri": "https://localhost:8080/"
        },
        "id": "XurPP5XaDdsf",
        "outputId": "da56b2ad-44c5-4d3e-822f-99d35babbb32"
      },
      "execution_count": null,
      "outputs": [
        {
          "output_type": "stream",
          "name": "stdout",
          "text": [
            "1 10.0\n",
            "2 10.0\n",
            "3 12.5\n",
            "4 15.0\n",
            "5 17.5\n",
            "6 20.0\n",
            "7 20.0\n",
            "8 20.0\n"
          ]
        }
      ]
    },
    {
      "cell_type": "code",
      "source": [
        "ticketPrice = 10\n",
        "fixedCost = 200\n",
        "standardAttendees = 20\n",
        "\n",
        "for ad in range(0,201,25):\n",
        "  profit = (10*(standardAttendees + 2 * round((ad**.5))) - fixedCost - ad)\n",
        "  print(ad, profit)\n",
        "\n",
        "\n"
      ],
      "metadata": {
        "colab": {
          "base_uri": "https://localhost:8080/"
        },
        "id": "bYyBdBifKfl3",
        "outputId": "738cf7cc-e02a-4183-a47c-e062bc659be0"
      },
      "execution_count": 31,
      "outputs": [
        {
          "output_type": "stream",
          "name": "stdout",
          "text": [
            "0 0\n",
            "25 75\n",
            "50 90\n",
            "75 105\n",
            "100 100\n",
            "125 95\n",
            "150 90\n",
            "175 85\n",
            "200 80\n"
          ]
        }
      ]
    },
    {
      "cell_type": "code",
      "source": [
        "ticketPrice = 10\n",
        "fixedCost = 200\n",
        "standardAttendees = 20\n",
        "\n",
        "ad = 0\n",
        "\n",
        "while ad < 201:\n",
        "  profit = (10*(standardAttendees + 2 * round((ad**.5))) - fixedCost - ad)\n",
        "  print(ad, profit)\n",
        "  ad = ad + 25\n",
        "\n"
      ],
      "metadata": {
        "colab": {
          "base_uri": "https://localhost:8080/"
        },
        "id": "SlfdftNuRxKy",
        "outputId": "6e84eacd-b8ad-43e4-9251-c27d4ecf33be"
      },
      "execution_count": 35,
      "outputs": [
        {
          "output_type": "stream",
          "name": "stdout",
          "text": [
            "0 0\n",
            "25 75\n",
            "50 90\n",
            "75 105\n",
            "100 100\n",
            "125 95\n",
            "150 90\n",
            "175 85\n",
            "200 80\n"
          ]
        }
      ]
    }
  ]
}