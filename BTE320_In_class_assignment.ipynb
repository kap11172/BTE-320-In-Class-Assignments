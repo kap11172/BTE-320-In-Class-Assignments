{
  "nbformat": 4,
  "nbformat_minor": 0,
  "metadata": {
    "colab": {
      "provenance": [],
      "authorship_tag": "ABX9TyNL+gRJ2xgOgwmReVMEOvUc",
      "include_colab_link": true
    },
    "kernelspec": {
      "name": "python3",
      "display_name": "Python 3"
    },
    "language_info": {
      "name": "python"
    }
  },
  "cells": [
    {
      "cell_type": "markdown",
      "metadata": {
        "id": "view-in-github",
        "colab_type": "text"
      },
      "source": [
        "<a href=\"https://colab.research.google.com/github/kap11172/BTE-320-In-Class-Assignments/blob/main/BTE320_In_class_assignment.ipynb\" target=\"_parent\"><img src=\"https://colab.research.google.com/assets/colab-badge.svg\" alt=\"Open In Colab\"/></a>"
      ]
    },
    {
      "cell_type": "markdown",
      "source": [
        "**Surface area of a cylinder**"
      ],
      "metadata": {
        "id": "pLroem3kynGf"
      }
    },
    {
      "cell_type": "code",
      "source": [
        "radius = 3\n",
        "height = 10\n",
        "pi = 3.14\n",
        "\n",
        "# Calculate surface area of cylinder\n",
        "surfacearea_cylinder = 2 * pi * radius ** 2 + 2 * pi * radius * height\n",
        "# Display surface area on the screen\n",
        "print(surfacearea_cylinder)"
      ],
      "metadata": {
        "colab": {
          "base_uri": "https://localhost:8080/"
        },
        "id": "86gVBMgcyvy6",
        "outputId": "90a3cc1d-4ec3-4fee-c38f-4e3f492b2100"
      },
      "execution_count": null,
      "outputs": [
        {
          "output_type": "stream",
          "name": "stdout",
          "text": [
            "244.92000000000002\n"
          ]
        }
      ]
    },
    {
      "cell_type": "markdown",
      "source": [
        "**Rock-paper-scissors**"
      ],
      "metadata": {
        "id": "N4Wt-3v9L7bc"
      }
    },
    {
      "cell_type": "code",
      "source": [
        "import random\n",
        "\n",
        "c = input('Do you want to play a game? Yes or No: ')\n",
        "\n",
        "while c == 'Yes':\n",
        "  p1 = input('Choose rock, paper, or scissors:  ')\n",
        "  p2 = random.choice(['rock', 'paper', 'scissors'])\n",
        "\n",
        "  print(f'Computer chose {p2}.')\n",
        "\n",
        "  if p1 == p2:\n",
        "    print('Draw')\n",
        "\n",
        "  elif (p1 == 'rock' and p2 == 'scissors') or (p1 == 'paper' and p2 == 'rock') or (p1 == 'scissors' and p2 == 'paper'):\n",
        "    print('You win')\n",
        "\n",
        "  else:\n",
        "    print('Computer wins')\n",
        "\n",
        "  c = input('Do you want to play again? Yes or No: ')\n",
        "print('Have a nice day!')\n"
      ],
      "metadata": {
        "colab": {
          "base_uri": "https://localhost:8080/"
        },
        "id": "lcarzZqsCXsn",
        "outputId": "a85c752e-4cdf-4267-9897-e62796a91aee"
      },
      "execution_count": null,
      "outputs": [
        {
          "output_type": "stream",
          "name": "stdout",
          "text": [
            "Do you want to play a game? Yes or No: Yes\n",
            "Choose rock, paper, or scissors:  paper\n",
            "Computer chose paper.\n",
            "Draw\n",
            "Do you want to play again? Yes or No: Yes\n",
            "Choose rock, paper, or scissors:  scissors\n",
            "Computer chose scissors.\n",
            "Draw\n",
            "Do you want to play again? Yes or No: Yes\n",
            "Choose rock, paper, or scissors:  paper\n",
            "Computer chose scissors.\n",
            "p2 wins\n",
            "Do you want to play again? Yes or No: No\n",
            "Have a nice day!\n"
          ]
        }
      ]
    },
    {
      "cell_type": "markdown",
      "source": [
        "**Numerical Calculator**"
      ],
      "metadata": {
        "id": "qJvgltfgMHtp"
      }
    },
    {
      "cell_type": "code",
      "source": [
        "n1 = float(input('Choose a number: '))\n",
        "n2 = float(input('Choose a number: '))\n",
        "Symbol = input('Choose operator: ')\n",
        "\n",
        "if Symbol == '+':\n",
        "  print(f'n1+n2 = {n1+n2}')\n",
        "\n",
        "elif Symbol == '-':\n",
        "  print(f'n1-n2 = {n1-n2}')\n",
        "\n",
        "elif Symbol == '*':\n",
        "  print(f'n1*n2 = {n1*n2}')\n",
        "\n",
        "elif Symbol == '/':\n",
        "  print(f'n1/n2 = {n1/n2}')\n",
        "\n",
        "elif Symbol == '**':\n",
        "  print(f'n1**n2 = {n1**n2}')\n",
        "\n",
        "elif Symbol == '//':\n",
        "  print(f'n1//n2 = {n1//n2}')\n",
        "\n",
        "elif Symbol == '%':\n",
        "  print(f'n1%n2 = {n1%n2}')"
      ],
      "metadata": {
        "id": "1p69owOUCQgB",
        "colab": {
          "base_uri": "https://localhost:8080/"
        },
        "outputId": "70b09bbf-7467-4e67-bf2e-1f81b9de71de"
      },
      "execution_count": null,
      "outputs": [
        {
          "output_type": "stream",
          "name": "stdout",
          "text": [
            "Choose number: 5\n",
            "Choose number: 3\n",
            "Choose operator: +\n",
            "n1+n2 = 8.0\n"
          ]
        }
      ]
    },
    {
      "cell_type": "markdown",
      "source": [
        "**Parking Garage**"
      ],
      "metadata": {
        "id": "7G57O9aBMRm7"
      }
    },
    {
      "cell_type": "code",
      "source": [
        "flat = 5.00\n",
        "\n",
        "for t in range(1, 9):\n",
        "  charge = flat + 2.50 * t\n",
        "  if charge < 10:\n",
        "    charge = 10.0\n",
        "  elif charge > 20:\n",
        "    charge = 20.0\n",
        "  print(t, charge)\n"
      ],
      "metadata": {
        "colab": {
          "base_uri": "https://localhost:8080/"
        },
        "id": "XurPP5XaDdsf",
        "outputId": "da56b2ad-44c5-4d3e-822f-99d35babbb32"
      },
      "execution_count": null,
      "outputs": [
        {
          "output_type": "stream",
          "name": "stdout",
          "text": [
            "1 10.0\n",
            "2 10.0\n",
            "3 12.5\n",
            "4 15.0\n",
            "5 17.5\n",
            "6 20.0\n",
            "7 20.0\n",
            "8 20.0\n"
          ]
        }
      ]
    },
    {
      "cell_type": "markdown",
      "source": [
        "**Movie Theater**"
      ],
      "metadata": {
        "id": "1-5_i4DLMUyw"
      }
    },
    {
      "cell_type": "code",
      "source": [
        "ticketPrice = 10\n",
        "fixedCost = 200\n",
        "standardAttendees = 20\n",
        "\n",
        "ad = 0\n",
        "\n",
        "while ad < 201:\n",
        "  profit = (10*(standardAttendees + 2 * round((ad**.5))) - fixedCost - ad)\n",
        "  print(ad, profit)\n",
        "  ad = ad + 25"
      ],
      "metadata": {
        "colab": {
          "base_uri": "https://localhost:8080/"
        },
        "id": "SlfdftNuRxKy",
        "outputId": "6e84eacd-b8ad-43e4-9251-c27d4ecf33be"
      },
      "execution_count": null,
      "outputs": [
        {
          "output_type": "stream",
          "name": "stdout",
          "text": [
            "0 0\n",
            "25 75\n",
            "50 90\n",
            "75 105\n",
            "100 100\n",
            "125 95\n",
            "150 90\n",
            "175 85\n",
            "200 80\n"
          ]
        }
      ]
    },
    {
      "cell_type": "markdown",
      "source": [
        "**Months2Numbers Dictionary**"
      ],
      "metadata": {
        "id": "EycoPK7YAhBq"
      }
    },
    {
      "cell_type": "code",
      "source": [
        "months = {}\n",
        "\n",
        "names = ['Jan', 'Feb', 'Mar', 'Apr', 'May', 'Jun',\n",
        "         'Jul', 'Aug', 'Sep', 'Oct', 'Nov', 'Dec']\n",
        "\n",
        "numbers = [1, 2, 3, 4, 5, 6, 7, 8, 9, 10, 11, 12]\n",
        "\n",
        "for i in range(len(numbers)):\n",
        "  months[numbers[i]] = names[i]\n",
        "\n",
        "months"
      ],
      "metadata": {
        "colab": {
          "base_uri": "https://localhost:8080/"
        },
        "id": "OdTADj9zFZFB",
        "outputId": "c76a7b9b-2e13-44c9-f7f2-8a0e9551be8d"
      },
      "execution_count": 1,
      "outputs": [
        {
          "output_type": "execute_result",
          "data": {
            "text/plain": [
              "{1: 'Jan',\n",
              " 2: 'Feb',\n",
              " 3: 'Mar',\n",
              " 4: 'Apr',\n",
              " 5: 'May',\n",
              " 6: 'Jun',\n",
              " 7: 'Jul',\n",
              " 8: 'Aug',\n",
              " 9: 'Sep',\n",
              " 10: 'Oct',\n",
              " 11: 'Nov',\n",
              " 12: 'Dec'}"
            ]
          },
          "metadata": {},
          "execution_count": 1
        }
      ]
    },
    {
      "cell_type": "markdown",
      "source": [
        "**Fee Calculation and Display Functions**"
      ],
      "metadata": {
        "id": "jqDa_FmMCa8z"
      }
    },
    {
      "cell_type": "code",
      "source": [
        "def calcFee(hours, decimals=2):\n",
        "  fee = 5 + hours * 2.5\n",
        "  fee = round(fee, decimals)\n",
        "  return fee\n",
        "\n",
        "def displayFee(fee):\n",
        "  print('Parking fee: ','$',fee)\n",
        "\n",
        "h = int(input('Enter number of hours parked: '))\n",
        "fee = calcFee(h)\n",
        "displayFee(fee)"
      ],
      "metadata": {
        "colab": {
          "base_uri": "https://localhost:8080/"
        },
        "id": "T60Dsc_eQF_i",
        "outputId": "6717eb3a-b9da-4209-b622-47cb9e44d054"
      },
      "execution_count": 2,
      "outputs": [
        {
          "output_type": "stream",
          "name": "stdout",
          "text": [
            "Enter number of hours parked: 4\n",
            "Parking fee:  $ 15.0\n"
          ]
        }
      ]
    },
    {
      "cell_type": "markdown",
      "source": [
        "**Reverse Function (Recurrsion)**"
      ],
      "metadata": {
        "id": "SaMBN34xAveq"
      }
    },
    {
      "cell_type": "code",
      "source": [
        "def rev(S):\n",
        "  if len(S) == 1:\n",
        "    return S\n",
        "  else:\n",
        "    return S[-1] + rev(S[:-1])\n",
        "\n",
        "rev('Hello')"
      ],
      "metadata": {
        "colab": {
          "base_uri": "https://localhost:8080/",
          "height": 35
        },
        "id": "q0g2bsk0UitS",
        "outputId": "d79b6ee3-b6ee-4eed-dcda-4ebfa9eeed7d"
      },
      "execution_count": null,
      "outputs": [
        {
          "output_type": "execute_result",
          "data": {
            "text/plain": [
              "'olleH'"
            ],
            "application/vnd.google.colaboratory.intrinsic+json": {
              "type": "string"
            }
          },
          "metadata": {},
          "execution_count": 21
        }
      ]
    },
    {
      "cell_type": "markdown",
      "source": [
        "**Student Class**"
      ],
      "metadata": {
        "id": "_-9BXzfjAZVe"
      }
    },
    {
      "cell_type": "code",
      "source": [
        "class Student:\n",
        "  def __init__(self, name, number):\n",
        "    self.name = name\n",
        "    self.number = number\n",
        "    self.courses = []\n",
        "\n",
        "  def enroll(self, course):\n",
        "    if course not in self.courses:\n",
        "      self.courses.append(course)\n",
        "    else:\n",
        "      print(f'Already enrolled in {course}')\n",
        "\n",
        "  def get_courses(self):\n",
        "    return self.courses\n",
        "\n",
        "s1 = Student('James Bond', '007')\n",
        "s2 = Student('Clark Kent', '333')\n",
        "s3 = Student('Jane Doe', '1111')\n"
      ],
      "metadata": {
        "id": "IZSY8ir2nSm_"
      },
      "execution_count": null,
      "outputs": []
    },
    {
      "cell_type": "code",
      "source": [
        "s1.name, s2.name, s3.name"
      ],
      "metadata": {
        "colab": {
          "base_uri": "https://localhost:8080/"
        },
        "id": "TJ0_3I788RkW",
        "outputId": "46d58b2d-ed84-4146-bcbd-867b48158c9e"
      },
      "execution_count": null,
      "outputs": [
        {
          "output_type": "execute_result",
          "data": {
            "text/plain": [
              "('James Bond', 'Clark Kent', 'Jane Doe')"
            ]
          },
          "metadata": {},
          "execution_count": 47
        }
      ]
    },
    {
      "cell_type": "code",
      "source": [
        "s3.enroll('BTE 420')"
      ],
      "metadata": {
        "id": "mvTZizKo9WC4"
      },
      "execution_count": null,
      "outputs": []
    },
    {
      "cell_type": "code",
      "source": [
        "s3.get_courses()"
      ],
      "metadata": {
        "colab": {
          "base_uri": "https://localhost:8080/"
        },
        "id": "s_mIN4QB-eO7",
        "outputId": "3d240310-a3e6-4b76-9961-3ac9bfb5dab5"
      },
      "execution_count": null,
      "outputs": [
        {
          "output_type": "execute_result",
          "data": {
            "text/plain": [
              "['BTE 320', 'BTE 420']"
            ]
          },
          "metadata": {},
          "execution_count": 51
        }
      ]
    }
  ]
}