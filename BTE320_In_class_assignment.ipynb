{
  "nbformat": 4,
  "nbformat_minor": 0,
  "metadata": {
    "colab": {
      "provenance": [],
      "authorship_tag": "ABX9TyOFJbOwKDA8/0knsYYzNj3d",
      "include_colab_link": true
    },
    "kernelspec": {
      "name": "python3",
      "display_name": "Python 3"
    },
    "language_info": {
      "name": "python"
    }
  },
  "cells": [
    {
      "cell_type": "markdown",
      "metadata": {
        "id": "view-in-github",
        "colab_type": "text"
      },
      "source": [
        "<a href=\"https://colab.research.google.com/github/kap11172/BTE-320-In-Class-Assignments/blob/main/BTE320_In_class_assignment.ipynb\" target=\"_parent\"><img src=\"https://colab.research.google.com/assets/colab-badge.svg\" alt=\"Open In Colab\"/></a>"
      ]
    },
    {
      "cell_type": "code",
      "execution_count": null,
      "metadata": {
        "id": "-ux9Baziyh4J"
      },
      "outputs": [],
      "source": []
    },
    {
      "cell_type": "markdown",
      "source": [
        "Surface area of a cylinder"
      ],
      "metadata": {
        "id": "pLroem3kynGf"
      }
    },
    {
      "cell_type": "code",
      "source": [
        "radius = 3\n",
        "height = 10\n",
        "pi = 3.14\n",
        "\n",
        "# Calculate surface area of cylinder\n",
        "surfacearea_cylinder = 2 * pi * radius ** 2 + 2 * pi * radius * height\n",
        "# Display surface area on the screen\n",
        "print(surfacearea_cylinder)"
      ],
      "metadata": {
        "colab": {
          "base_uri": "https://localhost:8080/"
        },
        "id": "86gVBMgcyvy6",
        "outputId": "90a3cc1d-4ec3-4fee-c38f-4e3f492b2100"
      },
      "execution_count": null,
      "outputs": [
        {
          "output_type": "stream",
          "name": "stdout",
          "text": [
            "244.92000000000002\n"
          ]
        }
      ]
    },
    {
      "cell_type": "code",
      "source": [
        "p1 = input('Choose rock, paper, or scissors: ')\n",
        "p2 = input('Choose rock, paper, or scissors: ')\n",
        "\n",
        "\n",
        "if p1 == p2:\n",
        "  print('Draw')\n",
        "\n",
        "elif (p1 == 'rock' and p2 == 'scissors') or (p1 == 'paper' and p2 == 'rock') or (p1 == 'scissors' and p2 == 'paper'):\n",
        "  print('p1 wins')\n",
        "\n",
        "else:\n",
        "  print('p2 wins')"
      ],
      "metadata": {
        "colab": {
          "base_uri": "https://localhost:8080/"
        },
        "id": "u5BZ59TwSGrt",
        "outputId": "11d36f2a-5351-4533-85f4-280c0f6cad87"
      },
      "execution_count": null,
      "outputs": [
        {
          "output_type": "stream",
          "name": "stdout",
          "text": [
            "Choose rock, paper, or scissors: rock\n",
            "Choose rock, paper, or scissors: rock\n",
            "Draw\n"
          ]
        }
      ]
    },
    {
      "cell_type": "code",
      "source": [
        "n1 = float(input('Choose number: '))\n",
        "n2 = float(input('Choose number: '))\n",
        "Symbol = input('Choose operator: ')\n",
        "\n",
        "if Symbol == '+':\n",
        "  print(f'n1+n2 = {n1+n2}')\n",
        "\n",
        "elif Symbol == '-':\n",
        "  print(f'n1-n2 = {n1-n2}')\n",
        "\n",
        "elif Symbol == '*':\n",
        "  print(f'n1*n2 = {n1*n2}')\n",
        "\n",
        "elif Symbol == '/':\n",
        "  print(f'n1/n2 = {n1/n2}')\n",
        "\n",
        "elif Symbol == '**':\n",
        "  print(f'n1**n2 = {n1**n2}')\n",
        "\n",
        "elif Symbol == '//':\n",
        "  print(f'n1//n2 = {n1//n2}')\n",
        "\n",
        "elif Symbol == '%':\n",
        "  print(f'n1%n2 = {n1%n2}')"
      ],
      "metadata": {
        "id": "1p69owOUCQgB",
        "colab": {
          "base_uri": "https://localhost:8080/"
        },
        "outputId": "70b09bbf-7467-4e67-bf2e-1f81b9de71de"
      },
      "execution_count": 2,
      "outputs": [
        {
          "output_type": "stream",
          "name": "stdout",
          "text": [
            "Choose number: 5\n",
            "Choose number: 3\n",
            "Choose operator: +\n",
            "n1+n2 = 8.0\n"
          ]
        }
      ]
    }
  ]
}